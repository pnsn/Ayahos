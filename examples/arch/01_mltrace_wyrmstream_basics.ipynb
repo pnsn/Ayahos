{
 "cells": [
  {
   "cell_type": "markdown",
   "metadata": {},
   "source": [
    "# 01_mltrace_dictstream_basics  \n",
    "\n",
    "In this example we demonstrate key shared, added, and divergent functionalities of the `wyrm.core.trace.mltrace.MLTrace` and `wyrm.core.stream.wyrmstream.WyrmStream` classes relative to their ObsPy parent classes"
   ]
  },
  {
   "cell_type": "code",
   "execution_count": null,
   "metadata": {},
   "outputs": [],
   "source": [
    "# Install Ayahos/Wyrm\n",
    "!pip install git+https://github.com/pnsn/wyrm@develop"
   ]
  },
  {
   "cell_type": "markdown",
   "metadata": {},
   "source": [
    "# MLTrace / DictStream basics"
   ]
  },
  {
   "cell_type": "code",
   "execution_count": null,
   "metadata": {},
   "outputs": [],
   "source": [
    "from wyrm.core.trace.mltrace import MLTrace\n",
    "from obspy.core.trace import Trace"
   ]
  },
  {
   "cell_type": "markdown",
   "metadata": {},
   "source": [
    "# Create empty MLTrace and Trace objects to compare header/default information  \n",
    "To track "
   ]
  },
  {
   "cell_type": "code",
   "execution_count": null,
   "metadata": {},
   "outputs": [],
   "source": [
    "# Create an empty MLTrace\n",
    "mlt = MLTrace()\n",
    "display(mlt)\n",
    "tr = Trace()\n",
    "display(tr)\n"
   ]
  },
  {
   "cell_type": "markdown",
   "metadata": {},
   "source": [
    "# Create a DictStream object\n",
    "1) Empty\n",
    "2) From stream\n",
    "3) From (ML)trace(s)\n"
   ]
  }
 ],
 "metadata": {
  "language_info": {
   "name": "python"
  }
 },
 "nbformat": 4,
 "nbformat_minor": 2
}
